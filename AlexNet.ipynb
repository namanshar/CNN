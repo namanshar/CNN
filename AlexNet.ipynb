{
 "cells": [
  {
   "cell_type": "code",
   "execution_count": 1,
   "id": "334cd9c6",
   "metadata": {},
   "outputs": [
    {
     "name": "stdout",
     "output_type": "stream",
     "text": [
      "Collecting tflearn\n",
      "  Downloading tflearn-0.5.0.tar.gz (107 kB)\n",
      "Requirement already satisfied: numpy in c:\\users\\dell\\.conda\\envs\\tf2\\lib\\site-packages (from tflearn) (1.19.5)\n",
      "Requirement already satisfied: six in c:\\users\\dell\\.conda\\envs\\tf2\\lib\\site-packages (from tflearn) (1.16.0)\n",
      "Requirement already satisfied: Pillow in c:\\users\\dell\\.conda\\envs\\tf2\\lib\\site-packages (from tflearn) (8.2.0)\n",
      "Building wheels for collected packages: tflearn\n",
      "  Building wheel for tflearn (setup.py): started\n",
      "  Building wheel for tflearn (setup.py): finished with status 'done'\n",
      "  Created wheel for tflearn: filename=tflearn-0.5.0-py3-none-any.whl size=127300 sha256=dacc922eb8bb08d39d1ba8cfcf336e169a9bb9be25a644792f3decf5ce4c9e49\n",
      "  Stored in directory: c:\\users\\dell\\appdata\\local\\pip\\cache\\wheels\\b4\\7f\\53\\2cc39cdcd4830aa8c962b88318a6d81b334fa00c9ef35b0923\n",
      "Successfully built tflearn\n",
      "Installing collected packages: tflearn\n",
      "Successfully installed tflearn-0.5.0\n"
     ]
    }
   ],
   "source": [
    "!pip install tflearn "
   ]
  },
  {
   "cell_type": "code",
   "execution_count": 2,
   "id": "5dc9016e",
   "metadata": {},
   "outputs": [
    {
     "name": "stdout",
     "output_type": "stream",
     "text": [
      "Requirement already satisfied: keras==2.3.0 in c:\\users\\dell\\.conda\\envs\\tf2\\lib\\site-packages (2.3.0)\n",
      "Requirement already satisfied: six>=1.9.0 in c:\\users\\dell\\.conda\\envs\\tf2\\lib\\site-packages (from keras==2.3.0) (1.16.0)\n",
      "Requirement already satisfied: numpy>=1.9.1 in c:\\users\\dell\\.conda\\envs\\tf2\\lib\\site-packages (from keras==2.3.0) (1.19.5)\n",
      "Requirement already satisfied: keras-applications>=1.0.6 in c:\\users\\dell\\.conda\\envs\\tf2\\lib\\site-packages (from keras==2.3.0) (1.0.8)\n",
      "Requirement already satisfied: scipy>=0.14 in c:\\users\\dell\\.conda\\envs\\tf2\\lib\\site-packages (from keras==2.3.0) (1.5.4)\n",
      "Requirement already satisfied: keras-preprocessing>=1.0.5 in c:\\users\\dell\\.conda\\envs\\tf2\\lib\\site-packages (from keras==2.3.0) (1.1.2)\n",
      "Requirement already satisfied: pyyaml in c:\\users\\dell\\.conda\\envs\\tf2\\lib\\site-packages (from keras==2.3.0) (5.4.1)\n",
      "Requirement already satisfied: h5py in c:\\users\\dell\\.conda\\envs\\tf2\\lib\\site-packages (from keras==2.3.0) (3.1.0)\n",
      "Requirement already satisfied: cached-property in c:\\users\\dell\\.conda\\envs\\tf2\\lib\\site-packages (from h5py->keras==2.3.0) (1.5.2)\n"
     ]
    }
   ],
   "source": [
    "!pip install keras==2.3.0"
   ]
  },
  {
   "cell_type": "code",
   "execution_count": 10,
   "id": "e1acdcfb",
   "metadata": {},
   "outputs": [],
   "source": [
    "import keras\n",
    "from keras.layers import Conv2D,MaxPooling2D,Dense, Dropout, Activation, Flatten, Input\n",
    "from keras.layers.normalization import BatchNormalization\n",
    "from keras.models import Sequential\n",
    "import numpy as np\n",
    "np.random.seed(1000)"
   ]
  },
  {
   "cell_type": "code",
   "execution_count": 4,
   "id": "94b67ffd",
   "metadata": {},
   "outputs": [
    {
     "name": "stdout",
     "output_type": "stream",
     "text": [
      "WARNING:tensorflow:From c:\\users\\dell\\.conda\\envs\\tf2\\lib\\site-packages\\tensorflow_core\\python\\compat\\v2_compat.py:65: disable_resource_variables (from tensorflow.python.ops.variable_scope) is deprecated and will be removed in a future version.\n",
      "Instructions for updating:\n",
      "non-resource variables are not supported in the long term\n",
      "curses is not supported on this machine (please install/reinstall curses for an optimal experience)\n",
      "Downloading Oxford 17 category Flower Dataset, Please wait...\n"
     ]
    },
    {
     "name": "stderr",
     "output_type": "stream",
     "text": [
      "100.0% 60276736 / 60270631\n"
     ]
    },
    {
     "name": "stdout",
     "output_type": "stream",
     "text": [
      "Succesfully downloaded 17flowers.tgz 60270631 bytes.\n",
      "File Extracted\n",
      "Starting to parse images...\n",
      "Parsing Done!\n"
     ]
    }
   ],
   "source": [
    "#Getting data\n",
    "import tflearn.datasets.oxflower17 as oxflower17\n",
    "x,y=oxflower17.load_data(one_hot=True)"
   ]
  },
  {
   "cell_type": "code",
   "execution_count": 6,
   "id": "96b03113",
   "metadata": {},
   "outputs": [
    {
     "data": {
      "text/plain": [
       "(1360, 224, 224, 3)"
      ]
     },
     "execution_count": 6,
     "metadata": {},
     "output_type": "execute_result"
    }
   ],
   "source": [
    "x.shape"
   ]
  },
  {
   "cell_type": "code",
   "execution_count": 13,
   "id": "b451cff8",
   "metadata": {},
   "outputs": [
    {
     "name": "stdout",
     "output_type": "stream",
     "text": [
      "Model: \"sequential_3\"\n",
      "_________________________________________________________________\n",
      "Layer (type)                 Output Shape              Param #   \n",
      "=================================================================\n",
      "conv2d_11 (Conv2D)           (None, 54, 54, 96)        34944     \n",
      "_________________________________________________________________\n",
      "max_pooling2d_7 (MaxPooling2 (None, 27, 27, 96)        0         \n",
      "_________________________________________________________________\n",
      "batch_normalization_14 (Batc (None, 27, 27, 96)        384       \n",
      "_________________________________________________________________\n",
      "conv2d_12 (Conv2D)           (None, 17, 17, 256)       2973952   \n",
      "_________________________________________________________________\n",
      "max_pooling2d_8 (MaxPooling2 (None, 8, 8, 256)         0         \n",
      "_________________________________________________________________\n",
      "batch_normalization_15 (Batc (None, 8, 8, 256)         1024      \n",
      "_________________________________________________________________\n",
      "conv2d_13 (Conv2D)           (None, 6, 6, 384)         885120    \n",
      "_________________________________________________________________\n",
      "batch_normalization_16 (Batc (None, 6, 6, 384)         1536      \n",
      "_________________________________________________________________\n",
      "conv2d_14 (Conv2D)           (None, 4, 4, 384)         1327488   \n",
      "_________________________________________________________________\n",
      "batch_normalization_17 (Batc (None, 4, 4, 384)         1536      \n",
      "_________________________________________________________________\n",
      "conv2d_15 (Conv2D)           (None, 2, 2, 256)         884992    \n",
      "_________________________________________________________________\n",
      "max_pooling2d_9 (MaxPooling2 (None, 1, 1, 256)         0         \n",
      "_________________________________________________________________\n",
      "batch_normalization_18 (Batc (None, 1, 1, 256)         1024      \n",
      "_________________________________________________________________\n",
      "flatten_3 (Flatten)          (None, 256)               0         \n",
      "_________________________________________________________________\n",
      "dense_5 (Dense)              (None, 4096)              1052672   \n",
      "_________________________________________________________________\n",
      "dropout_4 (Dropout)          (None, 4096)              0         \n",
      "_________________________________________________________________\n",
      "batch_normalization_19 (Batc (None, 4096)              16384     \n",
      "_________________________________________________________________\n",
      "dense_6 (Dense)              (None, 4096)              16781312  \n",
      "_________________________________________________________________\n",
      "dropout_5 (Dropout)          (None, 4096)              0         \n",
      "_________________________________________________________________\n",
      "batch_normalization_20 (Batc (None, 4096)              16384     \n",
      "_________________________________________________________________\n",
      "dense_7 (Dense)              (None, 1000)              4097000   \n",
      "_________________________________________________________________\n",
      "dropout_6 (Dropout)          (None, 1000)              0         \n",
      "_________________________________________________________________\n",
      "batch_normalization_21 (Batc (None, 1000)              4000      \n",
      "_________________________________________________________________\n",
      "dense_8 (Dense)              (None, 17)                17017     \n",
      "_________________________________________________________________\n",
      "activation_2 (Activation)    (None, 17)                0         \n",
      "=================================================================\n",
      "Total params: 28,096,769\n",
      "Trainable params: 28,075,633\n",
      "Non-trainable params: 21,136\n",
      "_________________________________________________________________\n",
      "Train on 1088 samples, validate on 272 samples\n",
      "Epoch 1/1\n",
      "1088/1088 [==============================] - 270s 248ms/step - loss: 3.7027 - accuracy: 0.2509 - val_loss: 119.0705 - val_accuracy: 0.1324\n"
     ]
    },
    {
     "data": {
      "text/plain": [
       "<keras.callbacks.callbacks.History at 0x1fd01133390>"
      ]
     },
     "execution_count": 13,
     "metadata": {},
     "output_type": "execute_result"
    }
   ],
   "source": [
    "#Creating Sequential Model\n",
    "model = Sequential()\n",
    "#1st Conv layer\n",
    "model.add(Conv2D(filters=96,kernel_size=(11,11), activation='relu', input_shape=(224,224,3),strides=(4,4),padding='valid'))\n",
    "#Pooling Layer\n",
    "model.add(MaxPooling2D(pool_size=(2,2),strides=(2,2),padding='valid'))\n",
    "#Batch Normalization before passing to another layer\n",
    "model.add(BatchNormalization())\n",
    "\n",
    "#2nd Conv layer\n",
    "model.add(Conv2D(filters=256,kernel_size=(11,11), activation='relu',strides=(1,1),padding='valid'))\n",
    "#Pooling Layer\n",
    "model.add(MaxPooling2D(pool_size=(2,2),strides=(2,2),padding='valid'))\n",
    "#Batch Normalization before passing to another layer\n",
    "model.add(BatchNormalization())\n",
    "\n",
    "#3rd Conv layer\n",
    "model.add(Conv2D(filters=384,kernel_size=(3,3), activation='relu', strides=(1,1),padding='valid'))\n",
    "#Batch Normalization before passing to another layer\n",
    "model.add(BatchNormalization()) \n",
    "\n",
    "#4th Conv layer\n",
    "model.add(Conv2D(filters=384,kernel_size=(3,3), activation='relu', strides=(1,1),padding='valid'))\n",
    "#Batch Normalization before passing to another layer\n",
    "model.add(BatchNormalization()) \n",
    "\n",
    "#5th Conv layer\n",
    "model.add(Conv2D(filters=256,kernel_size=(3,3), activation='relu', strides=(1,1),padding='valid'))\n",
    "#Pooling Layer\n",
    "model.add(MaxPooling2D(pool_size=(2,2),strides=(2,2),padding='valid'))\n",
    "#Batch Normalization before passing to another layer\n",
    "model.add(BatchNormalization()) \n",
    "\n",
    "#Passing it to dense layer\n",
    "model.add(Flatten())\n",
    "#1st dense layer\n",
    "model.add(Dense(4096,activation='relu',input_shape=(224*224*3,)))\n",
    "#Adding dropout to prevent overfitting\n",
    "model.add(Dropout(0,4))\n",
    "model.add(BatchNormalization())\n",
    "\n",
    "#2nd dense layer\n",
    "model.add(Dense(4096,activation='relu'))\n",
    "#Adding dropout to prevent overfitting\n",
    "model.add(Dropout(0,4))\n",
    "model.add(BatchNormalization()) \n",
    "\n",
    "#3rd dense layer\n",
    "model.add(Dense(1000,activation='relu'))\n",
    "#Adding dropout to prevent overfitting\n",
    "model.add(Dropout(0,4))\n",
    "model.add(BatchNormalization())\n",
    "\n",
    "#Output Layer\n",
    "model.add(Dense(17))\n",
    "model.add(Activation('softmax'))\n",
    "\n",
    "model.summary()\n",
    "\n",
    "#Compile\n",
    "model.compile(loss='categorical_crossentropy', optimizer='adam', metrics=['accuracy'])\n",
    "\n",
    "#Train\n",
    "model.fit(x,y,batch_size=64,epochs=1,verbose=1,validation_split=0.2,shuffle=True)"
   ]
  }
 ],
 "metadata": {
  "kernelspec": {
   "display_name": "Python 3",
   "language": "python",
   "name": "python3"
  },
  "language_info": {
   "codemirror_mode": {
    "name": "ipython",
    "version": 3
   },
   "file_extension": ".py",
   "mimetype": "text/x-python",
   "name": "python",
   "nbconvert_exporter": "python",
   "pygments_lexer": "ipython3",
   "version": "3.6.9"
  }
 },
 "nbformat": 4,
 "nbformat_minor": 5
}
