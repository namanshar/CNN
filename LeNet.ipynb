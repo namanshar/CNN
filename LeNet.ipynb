{
 "cells": [
  {
   "cell_type": "code",
   "execution_count": 1,
   "id": "70e48c6f",
   "metadata": {},
   "outputs": [
    {
     "name": "stdout",
     "output_type": "stream",
     "text": [
      "Requirement already satisfied: keras in c:\\users\\dell\\.conda\\envs\\tf2\\lib\\site-packages (2.3.0)\n",
      "Requirement already satisfied: scipy>=0.14 in c:\\users\\dell\\.conda\\envs\\tf2\\lib\\site-packages (from keras) (1.5.4)\n",
      "Requirement already satisfied: keras-preprocessing>=1.0.5 in c:\\users\\dell\\.conda\\envs\\tf2\\lib\\site-packages (from keras) (1.1.2)\n",
      "Requirement already satisfied: numpy>=1.9.1 in c:\\users\\dell\\.conda\\envs\\tf2\\lib\\site-packages (from keras) (1.19.5)\n",
      "Requirement already satisfied: h5py in c:\\users\\dell\\.conda\\envs\\tf2\\lib\\site-packages (from keras) (3.1.0)\n",
      "Requirement already satisfied: six>=1.9.0 in c:\\users\\dell\\.conda\\envs\\tf2\\lib\\site-packages (from keras) (1.16.0)\n",
      "Requirement already satisfied: keras-applications>=1.0.6 in c:\\users\\dell\\.conda\\envs\\tf2\\lib\\site-packages (from keras) (1.0.8)\n",
      "Requirement already satisfied: pyyaml in c:\\users\\dell\\.conda\\envs\\tf2\\lib\\site-packages (from keras) (5.4.1)\n",
      "Requirement already satisfied: cached-property in c:\\users\\dell\\.conda\\envs\\tf2\\lib\\site-packages (from h5py->keras) (1.5.2)\n"
     ]
    }
   ],
   "source": [
    "!pip install keras"
   ]
  },
  {
   "cell_type": "code",
   "execution_count": 2,
   "id": "7ef50fd4",
   "metadata": {},
   "outputs": [
    {
     "name": "stdout",
     "output_type": "stream",
     "text": [
      "Requirement already satisfied: keras==2.3.0 in c:\\users\\dell\\.conda\\envs\\tf2\\lib\\site-packages (2.3.0)\n",
      "Requirement already satisfied: pyyaml in c:\\users\\dell\\.conda\\envs\\tf2\\lib\\site-packages (from keras==2.3.0) (5.4.1)\n",
      "Requirement already satisfied: numpy>=1.9.1 in c:\\users\\dell\\.conda\\envs\\tf2\\lib\\site-packages (from keras==2.3.0) (1.19.5)\n",
      "Requirement already satisfied: h5py in c:\\users\\dell\\.conda\\envs\\tf2\\lib\\site-packages (from keras==2.3.0) (3.1.0)\n",
      "Requirement already satisfied: scipy>=0.14 in c:\\users\\dell\\.conda\\envs\\tf2\\lib\\site-packages (from keras==2.3.0) (1.5.4)\n",
      "Requirement already satisfied: keras-applications>=1.0.6 in c:\\users\\dell\\.conda\\envs\\tf2\\lib\\site-packages (from keras==2.3.0) (1.0.8)\n",
      "Requirement already satisfied: keras-preprocessing>=1.0.5 in c:\\users\\dell\\.conda\\envs\\tf2\\lib\\site-packages (from keras==2.3.0) (1.1.2)\n",
      "Requirement already satisfied: six>=1.9.0 in c:\\users\\dell\\.conda\\envs\\tf2\\lib\\site-packages (from keras==2.3.0) (1.16.0)\n",
      "Requirement already satisfied: cached-property in c:\\users\\dell\\.conda\\envs\\tf2\\lib\\site-packages (from h5py->keras==2.3.0) (1.5.2)\n"
     ]
    }
   ],
   "source": [
    "!pip install keras==2.3.0"
   ]
  },
  {
   "cell_type": "code",
   "execution_count": 3,
   "id": "ee7e9b96",
   "metadata": {},
   "outputs": [
    {
     "name": "stdout",
     "output_type": "stream",
     "text": [
      "Requirement already satisfied: tensorflow in c:\\users\\dell\\.conda\\envs\\tf2\\lib\\site-packages (2.0.0)\n",
      "Requirement already satisfied: astor>=0.6.0 in c:\\users\\dell\\.conda\\envs\\tf2\\lib\\site-packages (from tensorflow) (0.8.1)\n",
      "Requirement already satisfied: wrapt>=1.11.1 in c:\\users\\dell\\.conda\\envs\\tf2\\lib\\site-packages (from tensorflow) (1.12.1)\n",
      "Requirement already satisfied: grpcio>=1.8.6 in c:\\users\\dell\\.conda\\envs\\tf2\\lib\\site-packages (from tensorflow) (1.38.0)\n",
      "Requirement already satisfied: opt-einsum>=2.3.2 in c:\\users\\dell\\.conda\\envs\\tf2\\lib\\site-packages (from tensorflow) (3.3.0)\n",
      "Requirement already satisfied: keras-preprocessing>=1.0.5 in c:\\users\\dell\\.conda\\envs\\tf2\\lib\\site-packages (from tensorflow) (1.1.2)\n",
      "Requirement already satisfied: absl-py>=0.7.0 in c:\\users\\dell\\.conda\\envs\\tf2\\lib\\site-packages (from tensorflow) (0.13.0)\n",
      "Requirement already satisfied: numpy<2.0,>=1.16.0 in c:\\users\\dell\\.conda\\envs\\tf2\\lib\\site-packages (from tensorflow) (1.19.5)\n",
      "Requirement already satisfied: tensorboard<2.1.0,>=2.0.0 in c:\\users\\dell\\.conda\\envs\\tf2\\lib\\site-packages (from tensorflow) (2.0.2)\n",
      "Requirement already satisfied: tensorflow-estimator<2.1.0,>=2.0.0 in c:\\users\\dell\\.conda\\envs\\tf2\\lib\\site-packages (from tensorflow) (2.0.1)\n",
      "Requirement already satisfied: google-pasta>=0.1.6 in c:\\users\\dell\\.conda\\envs\\tf2\\lib\\site-packages (from tensorflow) (0.2.0)\n",
      "Requirement already satisfied: keras-applications>=1.0.8 in c:\\users\\dell\\.conda\\envs\\tf2\\lib\\site-packages (from tensorflow) (1.0.8)\n",
      "Requirement already satisfied: six>=1.10.0 in c:\\users\\dell\\.conda\\envs\\tf2\\lib\\site-packages (from tensorflow) (1.16.0)\n",
      "Requirement already satisfied: wheel>=0.26 in c:\\users\\dell\\.conda\\envs\\tf2\\lib\\site-packages (from tensorflow) (0.36.2)\n",
      "Requirement already satisfied: termcolor>=1.1.0 in c:\\users\\dell\\.conda\\envs\\tf2\\lib\\site-packages (from tensorflow) (1.1.0)\n",
      "Requirement already satisfied: gast==0.2.2 in c:\\users\\dell\\.conda\\envs\\tf2\\lib\\site-packages (from tensorflow) (0.2.2)\n",
      "Requirement already satisfied: protobuf>=3.6.1 in c:\\users\\dell\\.conda\\envs\\tf2\\lib\\site-packages (from tensorflow) (3.17.3)\n",
      "Requirement already satisfied: h5py in c:\\users\\dell\\.conda\\envs\\tf2\\lib\\site-packages (from keras-applications>=1.0.8->tensorflow) (3.1.0)\n",
      "Requirement already satisfied: google-auth-oauthlib<0.5,>=0.4.1 in c:\\users\\dell\\.conda\\envs\\tf2\\lib\\site-packages (from tensorboard<2.1.0,>=2.0.0->tensorflow) (0.4.4)\n",
      "Requirement already satisfied: werkzeug>=0.11.15 in c:\\users\\dell\\.conda\\envs\\tf2\\lib\\site-packages (from tensorboard<2.1.0,>=2.0.0->tensorflow) (2.0.1)\n",
      "Requirement already satisfied: requests<3,>=2.21.0 in c:\\users\\dell\\.conda\\envs\\tf2\\lib\\site-packages (from tensorboard<2.1.0,>=2.0.0->tensorflow) (2.25.1)\n",
      "Requirement already satisfied: setuptools>=41.0.0 in c:\\users\\dell\\.conda\\envs\\tf2\\lib\\site-packages (from tensorboard<2.1.0,>=2.0.0->tensorflow) (52.0.0.post20210125)\n",
      "Requirement already satisfied: google-auth<2,>=1.6.3 in c:\\users\\dell\\.conda\\envs\\tf2\\lib\\site-packages (from tensorboard<2.1.0,>=2.0.0->tensorflow) (1.31.0)\n",
      "Requirement already satisfied: markdown>=2.6.8 in c:\\users\\dell\\.conda\\envs\\tf2\\lib\\site-packages (from tensorboard<2.1.0,>=2.0.0->tensorflow) (3.3.4)\n",
      "Requirement already satisfied: cachetools<5.0,>=2.0.0 in c:\\users\\dell\\.conda\\envs\\tf2\\lib\\site-packages (from google-auth<2,>=1.6.3->tensorboard<2.1.0,>=2.0.0->tensorflow) (4.2.2)\n",
      "Requirement already satisfied: rsa<5,>=3.1.4 in c:\\users\\dell\\.conda\\envs\\tf2\\lib\\site-packages (from google-auth<2,>=1.6.3->tensorboard<2.1.0,>=2.0.0->tensorflow) (4.7.2)\n",
      "Requirement already satisfied: pyasn1-modules>=0.2.1 in c:\\users\\dell\\.conda\\envs\\tf2\\lib\\site-packages (from google-auth<2,>=1.6.3->tensorboard<2.1.0,>=2.0.0->tensorflow) (0.2.8)\n",
      "Requirement already satisfied: requests-oauthlib>=0.7.0 in c:\\users\\dell\\.conda\\envs\\tf2\\lib\\site-packages (from google-auth-oauthlib<0.5,>=0.4.1->tensorboard<2.1.0,>=2.0.0->tensorflow) (1.3.0)\n",
      "Requirement already satisfied: importlib-metadata in c:\\users\\dell\\.conda\\envs\\tf2\\lib\\site-packages (from markdown>=2.6.8->tensorboard<2.1.0,>=2.0.0->tensorflow) (4.5.0)\n",
      "Requirement already satisfied: pyasn1<0.5.0,>=0.4.6 in c:\\users\\dell\\.conda\\envs\\tf2\\lib\\site-packages (from pyasn1-modules>=0.2.1->google-auth<2,>=1.6.3->tensorboard<2.1.0,>=2.0.0->tensorflow) (0.4.8)\n",
      "Requirement already satisfied: urllib3<1.27,>=1.21.1 in c:\\users\\dell\\.conda\\envs\\tf2\\lib\\site-packages (from requests<3,>=2.21.0->tensorboard<2.1.0,>=2.0.0->tensorflow) (1.26.5)\n",
      "Requirement already satisfied: chardet<5,>=3.0.2 in c:\\users\\dell\\.conda\\envs\\tf2\\lib\\site-packages (from requests<3,>=2.21.0->tensorboard<2.1.0,>=2.0.0->tensorflow) (4.0.0)\n",
      "Requirement already satisfied: certifi>=2017.4.17 in c:\\users\\dell\\.conda\\envs\\tf2\\lib\\site-packages (from requests<3,>=2.21.0->tensorboard<2.1.0,>=2.0.0->tensorflow) (2021.5.30)\n",
      "Requirement already satisfied: idna<3,>=2.5 in c:\\users\\dell\\.conda\\envs\\tf2\\lib\\site-packages (from requests<3,>=2.21.0->tensorboard<2.1.0,>=2.0.0->tensorflow) (2.10)\n",
      "Requirement already satisfied: oauthlib>=3.0.0 in c:\\users\\dell\\.conda\\envs\\tf2\\lib\\site-packages (from requests-oauthlib>=0.7.0->google-auth-oauthlib<0.5,>=0.4.1->tensorboard<2.1.0,>=2.0.0->tensorflow) (3.1.1)\n",
      "Requirement already satisfied: dataclasses in c:\\users\\dell\\.conda\\envs\\tf2\\lib\\site-packages (from werkzeug>=0.11.15->tensorboard<2.1.0,>=2.0.0->tensorflow) (0.8)\n",
      "Requirement already satisfied: cached-property in c:\\users\\dell\\.conda\\envs\\tf2\\lib\\site-packages (from h5py->keras-applications>=1.0.8->tensorflow) (1.5.2)\n",
      "Requirement already satisfied: typing-extensions>=3.6.4 in c:\\users\\dell\\.conda\\envs\\tf2\\lib\\site-packages (from importlib-metadata->markdown>=2.6.8->tensorboard<2.1.0,>=2.0.0->tensorflow) (3.10.0.0)\n",
      "Requirement already satisfied: zipp>=0.5 in c:\\users\\dell\\.conda\\envs\\tf2\\lib\\site-packages (from importlib-metadata->markdown>=2.6.8->tensorboard<2.1.0,>=2.0.0->tensorflow) (3.4.1)\n"
     ]
    }
   ],
   "source": [
    "!pip install tensorflow"
   ]
  },
  {
   "cell_type": "code",
   "execution_count": 4,
   "id": "2af051c9",
   "metadata": {},
   "outputs": [
    {
     "name": "stderr",
     "output_type": "stream",
     "text": [
      "Using TensorFlow backend.\n"
     ]
    }
   ],
   "source": [
    "import keras\n",
    "from keras.layers import Conv2D,MaxPooling2D,Dense, Dropout, Activation, Flatten, Input\n",
    "from keras.datasets import mnist\n",
    "from keras.models import Sequential"
   ]
  },
  {
   "cell_type": "code",
   "execution_count": 5,
   "id": "a0573e93",
   "metadata": {},
   "outputs": [
    {
     "name": "stdout",
     "output_type": "stream",
     "text": [
      "Train on 60000 samples, validate on 10000 samples\n",
      "Epoch 1/20\n",
      "60000/60000 [==============================] - 41s 681us/step - loss: 0.2489 - accuracy: 0.9247 - val_loss: 0.0808 - val_accuracy: 0.9739\n",
      "Epoch 2/20\n",
      "60000/60000 [==============================] - 38s 636us/step - loss: 0.0690 - accuracy: 0.9788 - val_loss: 0.0552 - val_accuracy: 0.9807\n",
      "Epoch 3/20\n",
      "60000/60000 [==============================] - 38s 630us/step - loss: 0.0482 - accuracy: 0.9851 - val_loss: 0.0441 - val_accuracy: 0.9859\n",
      "Epoch 4/20\n",
      "60000/60000 [==============================] - 38s 630us/step - loss: 0.0384 - accuracy: 0.9881 - val_loss: 0.0420 - val_accuracy: 0.9869\n",
      "Epoch 5/20\n",
      "60000/60000 [==============================] - 39s 643us/step - loss: 0.0303 - accuracy: 0.9903 - val_loss: 0.0360 - val_accuracy: 0.9881\n",
      "Epoch 6/20\n",
      "60000/60000 [==============================] - 35s 578us/step - loss: 0.0251 - accuracy: 0.9919 - val_loss: 0.0315 - val_accuracy: 0.9891\n",
      "Epoch 7/20\n",
      "60000/60000 [==============================] - 35s 582us/step - loss: 0.0202 - accuracy: 0.9937 - val_loss: 0.0362 - val_accuracy: 0.9880\n",
      "Epoch 8/20\n",
      "60000/60000 [==============================] - 39s 642us/step - loss: 0.0173 - accuracy: 0.9947 - val_loss: 0.0335 - val_accuracy: 0.9897\n",
      "Epoch 9/20\n",
      "60000/60000 [==============================] - 38s 627us/step - loss: 0.0157 - accuracy: 0.9952 - val_loss: 0.0348 - val_accuracy: 0.9901\n",
      "Epoch 10/20\n",
      "60000/60000 [==============================] - 38s 634us/step - loss: 0.0136 - accuracy: 0.9953 - val_loss: 0.0338 - val_accuracy: 0.9900\n",
      "Epoch 11/20\n",
      "60000/60000 [==============================] - 41s 677us/step - loss: 0.0117 - accuracy: 0.9961 - val_loss: 0.0333 - val_accuracy: 0.9898\n",
      "Epoch 12/20\n",
      "60000/60000 [==============================] - 39s 642us/step - loss: 0.0106 - accuracy: 0.9965 - val_loss: 0.0426 - val_accuracy: 0.9871\n",
      "Epoch 13/20\n",
      "60000/60000 [==============================] - 40s 671us/step - loss: 0.0106 - accuracy: 0.9964 - val_loss: 0.0317 - val_accuracy: 0.9902\n",
      "Epoch 14/20\n",
      "60000/60000 [==============================] - 40s 659us/step - loss: 0.0076 - accuracy: 0.9976 - val_loss: 0.0437 - val_accuracy: 0.9885\n",
      "Epoch 15/20\n",
      "60000/60000 [==============================] - 40s 674us/step - loss: 0.0087 - accuracy: 0.9970 - val_loss: 0.0372 - val_accuracy: 0.9899\n",
      "Epoch 16/20\n",
      "60000/60000 [==============================] - 40s 671us/step - loss: 0.0079 - accuracy: 0.9970 - val_loss: 0.0421 - val_accuracy: 0.9887\n",
      "Epoch 17/20\n",
      "60000/60000 [==============================] - 39s 658us/step - loss: 0.0059 - accuracy: 0.9982 - val_loss: 0.0393 - val_accuracy: 0.9906\n",
      "Epoch 18/20\n",
      "60000/60000 [==============================] - 37s 620us/step - loss: 0.0073 - accuracy: 0.9977 - val_loss: 0.0424 - val_accuracy: 0.9896\n",
      "Epoch 19/20\n",
      "60000/60000 [==============================] - 39s 642us/step - loss: 0.0055 - accuracy: 0.9982 - val_loss: 0.0505 - val_accuracy: 0.9887\n",
      "Epoch 20/20\n",
      "60000/60000 [==============================] - 37s 613us/step - loss: 0.0069 - accuracy: 0.9976 - val_loss: 0.0455 - val_accuracy: 0.9896\n",
      "10000/10000 [==============================] - 4s 392us/step\n",
      "Test Loss:  0.04547817843710851\n",
      "Test Accuracy:  0.9896000027656555\n"
     ]
    }
   ],
   "source": [
    "#Loading the data and perform splitting\n",
    "(x_train,y_train),(x_test,y_test) = mnist.load_data()\n",
    "#Performing reshaping operation\n",
    "x_train=x_train.reshape(x_train.shape[0],28,28,1)\n",
    "x_test=x_test.reshape(x_test.shape[0],28,28,1)\n",
    "\n",
    "#Normalization\n",
    "x_train = x_train/255\n",
    "x_test = x_test/255\n",
    "\n",
    "#One-Hot Encoding\n",
    "y_train = keras.utils.to_categorical(y_train,10)\n",
    "y_test = keras.utils.to_categorical(y_test,10)\n",
    "\n",
    "#Building model architecture\n",
    "model = Sequential()\n",
    "\n",
    "model.add(Conv2D(6, kernel_size=(5,5), activation='relu', input_shape=(28,28,1)))\n",
    "\n",
    "model.add(MaxPooling2D(pool_size=(2,2)))\n",
    "\n",
    "model.add(Conv2D(16, kernel_size=(5,5), activation='relu'))\n",
    "\n",
    "model.add(Flatten())\n",
    "\n",
    "model.add(Dense(120,activation='relu'))\n",
    "\n",
    "model.add(Dense(84,activation='relu'))\n",
    "\n",
    "model.add(Dense(10,activation='softmax'))\n",
    "\n",
    "model.compile(loss=keras.metrics.categorical_crossentropy, optimizer=keras.optimizers.Adam(), metrics=['accuracy'])\n",
    "\n",
    "model.fit(x_train,y_train,batch_size=128,epochs=20,verbose=1,validation_data=(x_test,y_test))\n",
    "\n",
    "score= model.evaluate(x_test,y_test)\n",
    "print(\"Test Loss: \",score[0])\n",
    "print(\"Test Accuracy: \",score[1])"
   ]
  },
  {
   "cell_type": "code",
   "execution_count": null,
   "id": "54b13070",
   "metadata": {},
   "outputs": [],
   "source": []
  }
 ],
 "metadata": {
  "kernelspec": {
   "display_name": "Python 3",
   "language": "python",
   "name": "python3"
  },
  "language_info": {
   "codemirror_mode": {
    "name": "ipython",
    "version": 3
   },
   "file_extension": ".py",
   "mimetype": "text/x-python",
   "name": "python",
   "nbconvert_exporter": "python",
   "pygments_lexer": "ipython3",
   "version": "3.6.9"
  }
 },
 "nbformat": 4,
 "nbformat_minor": 5
}
